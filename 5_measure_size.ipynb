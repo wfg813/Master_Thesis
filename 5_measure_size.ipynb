{
 "cells": [
  {
   "cell_type": "markdown",
   "id": "52d96f50",
   "metadata": {},
   "source": [
    "# Detecting grain sizes of NEEM images\n",
    "***\n",
    "* Author: Yannick E. Heiser\n",
    "* Email:  wfg813@alumni.ku.dk\n",
    "* Last Update:   30th of January 2023\n",
    "***\n",
    "**How To:**\n",
    "\n",
    "* Add to be analyzed images in list `images_list`\n",
    "* Set image variables if necessary\n",
    "* Run main() function"
   ]
  },
  {
   "cell_type": "markdown",
   "id": "3929ae61-25c3-42fa-aafe-1d85e806d28b",
   "metadata": {},
   "source": [
    "### Matplotlib figure settings in Jupyter Notebook\n",
    "* **inline**: displays as static figure in code cell output\n",
    "* **notebook**: displays as interactive figure in code cell output\n",
    "* **qt**: displays as interactive figure in a separate window"
   ]
  },
  {
   "cell_type": "code",
   "execution_count": 1,
   "id": "65e25eed-6041-4b67-8a34-599a9896ca30",
   "metadata": {},
   "outputs": [],
   "source": [
    "# Set matplotlib backend\n",
    "%matplotlib inline \n",
    "# %matplotlib notebook \n",
    "# %matplotlib qt#"
   ]
  },
  {
   "cell_type": "code",
   "execution_count": 2,
   "id": "dbb46901",
   "metadata": {},
   "outputs": [],
   "source": [
    "# List of images to be analyzed\n",
    "NEEM_path = \"/home/jovyan/work/PICE/ResearchGroups/Stratigraphy/Yannick 2022/Data_NEEM/xLASM_NEEM\"\n",
    "images_list = [\"nmx3658b_1.png\",\"nmx3658b_2.png\",\"nmx3684b_1.png\",\"nmx3684b_2.png\",\"nmx3667b_1.png\",\"nmx3667b_2.png\",\"nmx3664d_1.png\",\"nmx3664d_2.png\"]\n",
    "# sclicing parameters list of all images\n",
    "import pandas as pd\n",
    "slicing_param = pd.read_csv(\"/home/jovyan/work/PICE/ResearchGroups/Stratigraphy/Yannick 2022/Data_csv/slicing_param.csv\")\n",
    "\n",
    "# Define image parameters\n",
    "pixels_to_um = 5 # pixels to um relation\n",
    "crop_img_len = 6 # length of cropped images [cm] 1cm=2000px\n",
    "overlap = 1 # length of overlap of cropped images [cm]"
   ]
  },
  {
   "cell_type": "code",
   "execution_count": 3,
   "id": "017829d7-4144-44ea-848b-f4d78ba827c1",
   "metadata": {},
   "outputs": [
    {
     "data": {
      "text/html": [
       "<div>\n",
       "<style scoped>\n",
       "    .dataframe tbody tr th:only-of-type {\n",
       "        vertical-align: middle;\n",
       "    }\n",
       "\n",
       "    .dataframe tbody tr th {\n",
       "        vertical-align: top;\n",
       "    }\n",
       "\n",
       "    .dataframe thead th {\n",
       "        text-align: right;\n",
       "    }\n",
       "</style>\n",
       "<table border=\"1\" class=\"dataframe\">\n",
       "  <thead>\n",
       "    <tr style=\"text-align: right;\">\n",
       "      <th></th>\n",
       "      <th>name</th>\n",
       "      <th>px_left</th>\n",
       "      <th>px_top</th>\n",
       "      <th>px_bottom</th>\n",
       "      <th>px_right</th>\n",
       "    </tr>\n",
       "  </thead>\n",
       "  <tbody>\n",
       "    <tr>\n",
       "      <th>65</th>\n",
       "      <td>nmx3642b_1</td>\n",
       "      <td>59023</td>\n",
       "      <td>888</td>\n",
       "      <td>6814</td>\n",
       "      <td>117782</td>\n",
       "    </tr>\n",
       "    <tr>\n",
       "      <th>66</th>\n",
       "      <td>nmx3642b_2</td>\n",
       "      <td>58998</td>\n",
       "      <td>1784</td>\n",
       "      <td>5950</td>\n",
       "      <td>117757</td>\n",
       "    </tr>\n",
       "    <tr>\n",
       "      <th>67</th>\n",
       "      <td>nmx3658b_1</td>\n",
       "      <td>4903</td>\n",
       "      <td>700</td>\n",
       "      <td>5188</td>\n",
       "      <td>114776</td>\n",
       "    </tr>\n",
       "    <tr>\n",
       "      <th>68</th>\n",
       "      <td>nmx3658b_2</td>\n",
       "      <td>4881</td>\n",
       "      <td>180</td>\n",
       "      <td>4900</td>\n",
       "      <td>114754</td>\n",
       "    </tr>\n",
       "    <tr>\n",
       "      <th>69</th>\n",
       "      <td>nmx3684b_1</td>\n",
       "      <td>5085</td>\n",
       "      <td>2468</td>\n",
       "      <td>6876</td>\n",
       "      <td>113742</td>\n",
       "    </tr>\n",
       "    <tr>\n",
       "      <th>70</th>\n",
       "      <td>nmx3684b_2</td>\n",
       "      <td>5062</td>\n",
       "      <td>1865</td>\n",
       "      <td>6200</td>\n",
       "      <td>113719</td>\n",
       "    </tr>\n",
       "    <tr>\n",
       "      <th>71</th>\n",
       "      <td>nmx3667b_1</td>\n",
       "      <td>6574</td>\n",
       "      <td>3250</td>\n",
       "      <td>6611</td>\n",
       "      <td>115044</td>\n",
       "    </tr>\n",
       "    <tr>\n",
       "      <th>72</th>\n",
       "      <td>nmx3667b_2</td>\n",
       "      <td>6555</td>\n",
       "      <td>1593</td>\n",
       "      <td>5100</td>\n",
       "      <td>115025</td>\n",
       "    </tr>\n",
       "    <tr>\n",
       "      <th>73</th>\n",
       "      <td>nmx3664d_1</td>\n",
       "      <td>5460</td>\n",
       "      <td>800</td>\n",
       "      <td>6360</td>\n",
       "      <td>115544</td>\n",
       "    </tr>\n",
       "    <tr>\n",
       "      <th>74</th>\n",
       "      <td>nmx3664d_2</td>\n",
       "      <td>5435</td>\n",
       "      <td>1338</td>\n",
       "      <td>5360</td>\n",
       "      <td>115519</td>\n",
       "    </tr>\n",
       "  </tbody>\n",
       "</table>\n",
       "</div>"
      ],
      "text/plain": [
       "          name  px_left  px_top  px_bottom  px_right\n",
       "65  nmx3642b_1    59023     888       6814    117782\n",
       "66  nmx3642b_2    58998    1784       5950    117757\n",
       "67  nmx3658b_1     4903     700       5188    114776\n",
       "68  nmx3658b_2     4881     180       4900    114754\n",
       "69  nmx3684b_1     5085    2468       6876    113742\n",
       "70  nmx3684b_2     5062    1865       6200    113719\n",
       "71  nmx3667b_1     6574    3250       6611    115044\n",
       "72  nmx3667b_2     6555    1593       5100    115025\n",
       "73  nmx3664d_1     5460     800       6360    115544\n",
       "74  nmx3664d_2     5435    1338       5360    115519"
      ]
     },
     "execution_count": 3,
     "metadata": {},
     "output_type": "execute_result"
    }
   ],
   "source": [
    "# Convert from cm to px\n",
    "crop_img_len_px = int(crop_img_len*(1/pixels_to_um)*10000) #length of one image in px\n",
    "overlap_px = int(overlap*(1/pixels_to_um)*10000)\n",
    "slicing_param.tail(10)"
   ]
  },
  {
   "cell_type": "code",
   "execution_count": 4,
   "id": "8090679c-f3f1-4200-9066-648f371fab55",
   "metadata": {},
   "outputs": [],
   "source": [
    "import post_processing\n",
    "\n",
    "def main():\n",
    "    for i in range(len(images_list)):\n",
    "        print(images_list[i])\n",
    "        img_full, n, slicing_param_img = post_processing.load_image(images_list[i],NEEM_path,crop_img_len_px,overlap_px,slicing_param)\n",
    "        print(\"n:\",n)\n",
    "        for ii in range(n):\n",
    "            print(\"i={}\".format(ii))\n",
    "            img_raw, mask_bubbles = post_processing.crop_image(img_full,ii,crop_img_len_px,overlap_px,slicing_param_img)\n",
    "            img = post_processing.denoise(img_raw)\n",
    "            img = post_processing.hessian_filter(img)\n",
    "            img = post_processing.cleaning(img,mask_bubbles)\n",
    "            post_processing.label_grains(img,img_raw,images_list[i],ii,pixels_to_um)\n",
    "        print(\"i={}\".format(n))\n",
    "        img_raw, mask_bubbles = post_processing.crop_image_last(img_full,n,crop_img_len_px,overlap_px,slicing_param_img)\n",
    "        img = post_processing.denoise(img_raw)\n",
    "        img = post_processing.hessian_filter(img)\n",
    "        img = post_processing.cleaning(img,mask_bubbles)\n",
    "        post_processing.label_grains(img,img_raw,images_list[i],n,pixels_to_um)"
   ]
  },
  {
   "cell_type": "code",
   "execution_count": null,
   "id": "47a8e1f5-d695-491b-b67b-3c9c26b29de2",
   "metadata": {},
   "outputs": [
    {
     "name": "stdout",
     "output_type": "stream",
     "text": [
      "nmx3658b_1.png\n"
     ]
    }
   ],
   "source": [
    "if __name__ == '__main__':\n",
    "    main()"
   ]
  },
  {
   "cell_type": "code",
   "execution_count": null,
   "id": "dabc44a5-d2a5-4786-b079-4cd37d9132cf",
   "metadata": {},
   "outputs": [],
   "source": []
  }
 ],
 "metadata": {
  "kernelspec": {
   "display_name": "Python 3 (ipykernel)",
   "language": "python",
   "name": "python3"
  },
  "language_info": {
   "codemirror_mode": {
    "name": "ipython",
    "version": 3
   },
   "file_extension": ".py",
   "mimetype": "text/x-python",
   "name": "python",
   "nbconvert_exporter": "python",
   "pygments_lexer": "ipython3",
   "version": "3.8.16"
  }
 },
 "nbformat": 4,
 "nbformat_minor": 5
}
