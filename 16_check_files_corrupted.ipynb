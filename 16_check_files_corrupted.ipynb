{
 "cells": [
  {
   "cell_type": "markdown",
   "id": "720b245a-c543-4276-b791-681fcecc9fd4",
   "metadata": {},
   "source": [
    "# Check if image files corrputed\n",
    "***\n",
    "* Author: Yannick E. Heiser\n",
    "* Email:  wfg813@alumni.ku.dk\n",
    "* Last Update:   6th of March 2023\n",
    "***\n",
    "**How To:**\n",
    "* change `path` to folder containing images\n",
    "* run function `check_file`"
   ]
  },
  {
   "cell_type": "code",
   "execution_count": 5,
   "id": "3c3231d4-1747-4299-b928-0f66d4f31c99",
   "metadata": {},
   "outputs": [],
   "source": [
    "import numpy as np\n",
    "from os.path import join\n",
    "import os\n",
    "import glob\n",
    "from tkinter import Tcl\n",
    "from skimage import io\n",
    "from PIL import Image\n",
    "Image.MAX_IMAGE_PIXELS = 2000000000"
   ]
  },
  {
   "cell_type": "code",
   "execution_count": 6,
   "id": "25d5e368-66b1-4389-a083-ab1f96283cbf",
   "metadata": {},
   "outputs": [],
   "source": [
    "# folder in which all images are checked\n",
    "path = \"/home/jovyan/work/PICE/ResearchGroups/Stratigraphy/Yannick 2022/Data_NEEM/xLASM_NEEM/\""
   ]
  },
  {
   "cell_type": "code",
   "execution_count": 7,
   "id": "2132b67e-85e2-4dd5-bfb7-c4add031ecc6",
   "metadata": {},
   "outputs": [],
   "source": [
    "# Load image and send error if file corrupted\n",
    "def check_file(path):\n",
    "    \"\"\"\n",
    "    check all images in folder for corruption\n",
    "    -----------------------------------------\n",
    "    param: (str) path: path of folder containing images to be checked\n",
    "    return: void\n",
    "    \"\"\"\n",
    "    if path != None:\n",
    "        os.chdir(path)\n",
    "    files = glob.glob(\"*.png\")\n",
    "    files = Tcl().call('lsort', '-dict', files) #sort files after name\n",
    "    for i in range(len(files)):\n",
    "        print(files[i])\n",
    "        try:\n",
    "            img = io.imread(files[i])\n",
    "        except Exception as e:\n",
    "            print(\"Error for image:\", files[i])\n",
    "            #print(e)\n",
    "            continue"
   ]
  },
  {
   "cell_type": "code",
   "execution_count": null,
   "id": "29681af2-df2d-4dbc-bbfd-25ca9e91c8e1",
   "metadata": {},
   "outputs": [
    {
     "name": "stdout",
     "output_type": "stream",
     "text": [
      "nmx3642a_0.png\n",
      "nmx3642a_1.png\n"
     ]
    }
   ],
   "source": [
    "check_file(path)"
   ]
  },
  {
   "cell_type": "code",
   "execution_count": null,
   "id": "5d8e43d2-7d32-4dbb-909e-2d6a4b06bb3f",
   "metadata": {},
   "outputs": [],
   "source": []
  }
 ],
 "metadata": {
  "kernelspec": {
   "display_name": "Python 3 (ipykernel)",
   "language": "python",
   "name": "python3"
  },
  "language_info": {
   "codemirror_mode": {
    "name": "ipython",
    "version": 3
   },
   "file_extension": ".py",
   "mimetype": "text/x-python",
   "name": "python",
   "nbconvert_exporter": "python",
   "pygments_lexer": "ipython3",
   "version": "3.8.15"
  }
 },
 "nbformat": 4,
 "nbformat_minor": 5
}
